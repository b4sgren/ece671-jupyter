{
 "cells": [
  {
   "cell_type": "markdown",
   "metadata": {},
   "source": [
    "[Table of Contents](table_of_contents.ipynb)"
   ]
  },
  {
   "cell_type": "markdown",
   "metadata": {},
   "source": [
    "# Topic 24.  Singular Value Decomposition\n",
    "Author: Brendon Forsgren (bforsgren29@gmail.com)\n",
    "    "
   ]
  },
  {
   "cell_type": "markdown",
   "metadata": {},
   "source": [
    "##  Introduction\n",
    "Singualar Value Decomposition (SVD) is a matrix decomposition for any\n",
    "complex matrix that results in 2 unitary matrix and a diagonal matrix of\n",
    "singular values. SVD is a generalization of Eigenvalue Decomposition\n",
    "and is valid for any complex matrix, not just square matrices.\n",
    "\n",
    "SVD is one of the most important techniques of Linear Algebra \n",
    "(to the point that it could be called a power tool!) and for good reason.\n",
    "The SVD provides a robust solution to Least Squares and Min-Norm problems.\n",
    "Additionally it allows for a robust solution for ill conditioned problems\n",
    "(problems where the condition number of the A matrix is very high).\n",
    "Lastly, while many matrix decompositions have certain requirements about the matrix\n",
    "being decomposed (LU: square and full rank, Cholesky: square, full rank, and\n",
    "symetric positive definite, Eigenvalue Decomposition: Hermitian) SVD has no\n",
    "such requirements."
   ]
  },
  {
   "cell_type": "markdown",
   "metadata": {},
   "source": [
    "## Explanation of the theory\n",
    "\n",
    "As mentioned above, SVD is a generalization of the $A=S\\Lambda S$ also known\n",
    "as the Eigenvalue Decomposition. The SVD extends this \n",
    "to be the following decomposition for any complex $m\\times n$ matrix:\n",
    "\n",
    "\\begin{align}\n",
    "A = U\\Sigma V^H\n",
    "\\end{align}\n",
    "\n",
    "where $U \\epsilon C^{m\\times m}$ and unitary, $V \\epsilon C^{n\\times n}$\n",
    "and unitary, and $\\Sigma \\epsilon R^{m \\times n}$ and diagonal.\n",
    "$\\Sigma$ is also filled with Singular Values $\\sigma_i$ such that \n",
    "$\\sigma_1 >= \\sigma_2 >= ... >= \\sigma_p >= 0$ where p = min(m, n). $\\Sigma$ is a rectangular\n",
    "matrix and as a result $\\Sigma$ is diagonal along the main diagonal with the\n",
    "remaining rows or columns being fille with zeros as shown below."
   ]
  },
  {
   "cell_type": "markdown",
   "metadata": {},
   "source": [
    "\\begin{align}\n",
    "\\Sigma = \\begin{pmatrix} \\sigma_1 & 0 & 0 & 0 \\\\ 0 & \\sigma_2 & 0 & 0 \\\\ 0 & 0 & \\sigma_3 & 0 \\end{pmatrix}\n",
    "or  \\Sigma = \\begin{pmatrix} \\sigma_1 & 0 & 0 \\\\ 0 & \\sigma_2 & 0 \\\\ 0 & 0 & \\sigma_3 \\\\ 0 & 0 & 0 \\end{pmatrix}\n",
    "\\end{align}\n"
   ]
  },
  {
   "cell_type": "markdown",
   "metadata": {},
   "source": [
    "An interesting property of the singular values in $\\Sigma$ is that they are the squareroot of the\n",
    "eigenvalues of $A^HA$ and $AA^H$ or $\\sigma_i = \\sqrt{\\lambda_i}$. This is shown by the following:\n",
    "\\begin{align}\n",
    "A^HA = V\\Sigma^H U^H U \\Sigma V^H\\\\\n",
    "A^HA = V\\Sigma^H I \\Sigma V^H\\\\\n",
    "A^HA = V\\Sigma^H \\Sigma V^H\\\\\n",
    "\\end{align}\n",
    "Let $\\Sigma^H \\Sigma = \\Lambda$\n",
    "\\begin{align}\n",
    "A^HA = V \\Lambda V^H\n",
    "\\end{align}\n",
    "Now multiplying each side on the right by V gives us\n",
    "\\begin{align}\n",
    "A^HAV = V \\Lambda\n",
    "\\end{align}\n",
    "Which is the definition of an eigenvalue. Therefore the eigenvalues ($\\Lambda$)\n",
    "of $A^HA$ are the square of the singular values ($\\Sigma$) of A.\n",
    "The same process can be repeated with the matrix $AA^H$ to obtain the same result\n",
    "Additionally it should be noted that in the case that A is a square matrix\n",
    "The SVD of A becomes equivalent to the Eigenvalue Decomposition and $\\sigma_i = \\lambda_i$."
   ]
  },
  {
   "cell_type": "markdown",
   "metadata": {},
   "source": [
    "Often it is convenient to use the following block matrix structure to write the SVD.\n",
    "\\begin{align}\n",
    "A = \\begin{pmatrix} U_1 & U_2 \\end{pmatrix} \\begin{pmatrix} \\Sigma_1 & 0 \\\\ 0 & \\Sigma_2 \\end{pmatrix} \\begin{pmatrix} V_1^H \\\\ V_2^H \\end{pmatrix}\n",
    "\\end{align}\n",
    "\n",
    "Where $U_1 \\epsilon C^{m\\times r}$, $U_2 \\epsilon C^{m \\times (m-r)}$,\n",
    "$V_1^H \\epsilon C^{r \\times n}$, $V_2^H \\epsilon C^{(n-r) \\times n}$,\n",
    "$\\Sigma_1 = diag(\\sigma_1, ... , \\sigma_r)$ of size $r\\times r$ and\n",
    "$\\Sigma_2$ is a diagonal matrix of size $(m-r) \\times (m-r)$ and $\\sigma_i = 0$.\n",
    "This allows A to be written in the following format in terms of the non-zero singular values.\n",
    "\\begin{align}\n",
    "\\\\\n",
    "A = U_1 \\Sigma_1 V_1^H = \\Sigma_{i=1}^r \\sigma_i u_i v_i^H\n",
    "\\end{align}\n",
    "\n",
    "This will be useful when finding solutions to equations in the form Ax=b when\n",
    "A is rank deficient."
   ]
  },
  {
   "cell_type": "markdown",
   "metadata": {},
   "source": [
    "## Simple Numerical Examples\n",
    "\n",
    "As mentioned above the SVD has numerous applications to solving the problem $Sx = b$.\n",
    "In this section I will show some examples of how the matrix rank relates to the SVD,\n",
    "how to find the pseudo-inverse of matrix A using the SVD, and how to solve poorly conditioned problems using SVD.\n"
   ]
  },
  {
   "cell_type": "markdown",
   "metadata": {},
   "source": [
    "The first example deals with the rank of matrix A. Simply put the rank of A is\n",
    "equal to the number of non-zeros singular values (the rank of $\\Sigma$).\n",
    "This can simply be shown using the following proof: \n",
    "\\begin{align}\n",
    "A = U \\Sigma V^H\\\\\n",
    "rank(A) = rank(U \\Sigma V^H)\\\\\n",
    "\\end{align}\n",
    "Since U and $V^H$ are unitary they do not affect the rank of $\\Sigma$.Therefore \n",
    "\\begin{align}\n",
    "rank(A) = rank(\\Sigma)\n",
    "\\end{align}\n",
    "The following python codes illustrates this."
   ]
  },
  {
   "cell_type": "code",
   "execution_count": 11,
   "metadata": {},
   "outputs": [
    {
     "name": "stdout",
     "output_type": "stream",
     "text": [
      "A: [[  7  -8   4   7  -7]\n",
      " [ -9   6  -4  -2   1]\n",
      " [  4   0   4   8 -10]\n",
      " [ -9  -6  -4   9   8]]\n",
      "The numer of non-zero singular values in A is: 4\n",
      "The rank of A is: 4\n",
      "B: [[  2.    7.   -7.    4.  -15. ]\n",
      " [ 12.    2.   -3.  -17.    6. ]\n",
      " [  4.   14.  -14.    8.  -30. ]\n",
      " [ 36.    6.   -9.  -51.   18. ]\n",
      " [  1.    3.5  -3.5   2.   -7.5]]\n",
      "The numer of non-zero singular values in B is: 2\n",
      "The rank of B is: 2\n"
     ]
    }
   ],
   "source": [
    "import numpy as np\n",
    "import scipy.linalg as spl\n",
    "import numpy.linalg as npl\n",
    "\n",
    "def checkSingularValues(s):\n",
    "    s[s<1e-10] = 0\n",
    "    return s\n",
    "\n",
    "# For a random matrix\n",
    "A = np.random.randint(-10, 10, size=(4, 5))\n",
    "U, s, Vh = spl.svd(A)\n",
    "s = checkSingularValues(s)\n",
    "print('A:', A)\n",
    "print('The numer of non-zero singular values in A is:', np.count_nonzero(s))\n",
    "print('The rank of A is:', npl.matrix_rank(A))\n",
    "\n",
    "# For a rank deficient matrix\n",
    "B = np.array([[2, 7, -7, 4, -15], [12, 2, -3, -17, 6], [4, 14, -14, 8, -30], [36, 6, -9, -51, 18], [1, 3.5, -3.5, 2, -7.5]])\n",
    "U, s, Vh = spl.svd(B)\n",
    "print('B:', B)\n",
    "s = checkSingularValues(s)\n",
    "print('The numer of non-zero singular values in B is:', np.count_nonzero(s))\n",
    "print('The rank of B is:', npl.matrix_rank(B))\n"
   ]
  },
  {
   "cell_type": "markdown",
   "metadata": {},
   "source": [
    "\n",
    "The next example will show how to compute the pseudo inverse using SVD.\n",
    "This can be done for both full rank and rank deficient matrices.\n",
    "The following derivation shows how to find the pseudo inverse for a full rank, tall matrix.\n",
    "\\begin{align}\n",
    "A = \\begin{pmatrix} U_1 & U_2 \\end{pmatrix} \\begin{pmatrix} \\Sigma_1 \\\\ 0 \\end{pmatrix} V^H = U_1 \\Sigma_1 V^H\\\\\n",
    "(A^HA)^{-1}A^H = (V \\Sigma_1 U_1^H U_1 \\Sigma_1 V^H)^{-1}V \\Sigma_1 U^H\\\\\n",
    "(A^HA)^{-1}A^H = (V \\Sigma_1 \\Sigma_1 V^H)^{-1}V \\Sigma_1 U^H\\\\\n",
    "(A^HA)^{-1}A^H = V \\Sigma_1^{-1} \\Sigma_1^{-1} V^H V \\Sigma_1 U^H\\\\\n",
    "(A^HA)^{-1}A^H = V \\Sigma_1^{-1} U^H\\\\\n",
    "Where \\Sigma_1^{-1} = diag(1/\\sigma_1, 1/\\sigma_2,..., 1/\\sigma_r)\n",
    "\\end{align}\n",
    "To extend this to a rank deficient matrix simply get rid of all the singular values equal to 0\n",
    "and the columns in $U$ and rows in $V^H$ corresponding to those values.\n",
    "The following code has and example finding the pseudo inverse for a tall matrix.\n"
   ]
  },
  {
   "cell_type": "code",
   "execution_count": 4,
   "metadata": {},
   "outputs": [
    {
     "name": "stdout",
     "output_type": "stream",
     "text": [
      "x_svd: [-0.26666667  4.2        -2.93333333]\n",
      "x: [-0.26666667  4.2        -2.93333333]\n"
     ]
    }
   ],
   "source": [
    "def invertSingularValues(s):\n",
    "    index = np.nonzero(s)\n",
    "    s[index] = 1.0/s[index]\n",
    "    return s\n",
    "\n",
    "# Tall matrix case\n",
    "A = np.array([[1, 2, 3], [4, 5, 6], [7, 8, 9], [2, 6, 5]])\n",
    "b = np.array([3, -5, 9, 10]).T\n",
    "U, s, Vh = spl.svd(A)\n",
    "\n",
    "s = checkSingularValues(s)\n",
    "s = invertSingularValues(s)\n",
    "\n",
    "S = np.diag(s)\n",
    "S = np.hstack((S, np.zeros((3, 1))))\n",
    "SVD_inv = Vh.T @ S @ U.T\n",
    "x_svd = SVD_inv @ b\n",
    "\n",
    "A_inv = npl.pinv(A)\n",
    "x = A_inv @ b\n",
    "print('x_svd:', x_svd)\n",
    "print('x:', x)\n"
   ]
  },
  {
   "cell_type": "markdown",
   "metadata": {},
   "source": [
    "This example is for a fat matrix.\n"
   ]
  },
  {
   "cell_type": "code",
   "execution_count": 6,
   "metadata": {},
   "outputs": [
    {
     "name": "stdout",
     "output_type": "stream",
     "text": [
      "x_svd: [ 0.94444444 -0.05555556  0.61111111 -0.16666667]\n",
      "x: [ 0.94444444 -0.05555556  0.61111111 -0.16666667]\n"
     ]
    }
   ],
   "source": [
    "A = np.array([[1, 2, 3, 4], [5, 4, 3, 2], [-1, 6, -2, 3]])\n",
    "b = np.array([2, 6, -3]).T\n",
    "U, s, Vh = spl.svd(A)\n",
    "\n",
    "s = checkSingularValues(s)\n",
    "s = invertSingularValues(s)\n",
    "\n",
    "S = np.diag(s)\n",
    "S = np.vstack((S, np.zeros((1, 3))))\n",
    "svd_inv = Vh.T @ S @ U.T\n",
    "x_svd = svd_inv @ b\n",
    "\n",
    "A_inv = npl.pinv(A)\n",
    "x = A_inv @ b\n",
    "print('x_svd:', x_svd)\n",
    "print('x:', x)\n"
   ]
  },
  {
   "cell_type": "markdown",
   "metadata": {},
   "source": [
    "This example is for a rank deficient matrix.\n"
   ]
  },
  {
   "cell_type": "code",
   "execution_count": 10,
   "metadata": {},
   "outputs": [
    {
     "name": "stdout",
     "output_type": "stream",
     "text": [
      "U1*S1*V1h: [[1. 2. 3.]\n",
      " [4. 5. 6.]\n",
      " [7. 8. 9.]\n",
      " [2. 4. 6.]]\n",
      "x_svd: [-1.67521368  0.04273504  1.76068376]\n",
      "x: [-1.67521368  0.04273504  1.76068376]\n"
     ]
    }
   ],
   "source": [
    "A = np.array([[1, 2, 3], [4, 5, 6], [7, 8, 9], [2, 4, 6]])\n",
    "r = npl.matrix_rank(A)\n",
    "b = np.array([3, -5, 9, 10]).T\n",
    "U, s, Vh = spl.svd(A)\n",
    "\n",
    "s = checkSingularValues(s)\n",
    "\n",
    "S = np.diag(s)\n",
    "U1 = U[:, 0:r]\n",
    "S1 = S[0:r, 0:r]\n",
    "V1h = Vh[0:r, :]\n",
    "\n",
    "print('U1*S1*V1h:', U1 @ S1 @ V1h)\n",
    "S1 = npl.inv(S1)\n",
    "svd_inv = V1h.T @ S1 @ U1.T\n",
    "x_svd = svd_inv @ b\n",
    "\n",
    "x = npl.pinv(A) @ b\n",
    "print('x_svd:', x_svd)\n",
    "print('x:', x)\n"
   ]
  },
  {
   "cell_type": "markdown",
   "metadata": {},
   "source": [
    "## An Engineering Application\n",
    "\n",
    "Provide a more sophisticated example showing one engineering example of the topic, complete with python code."
   ]
  },
  {
   "cell_type": "code",
   "execution_count": null,
   "metadata": {},
   "outputs": [],
   "source": []
  }
 ],
 "metadata": {
  "kernelspec": {
   "display_name": "Python 3",
   "language": "python",
   "name": "python3"
  },
  "language_info": {
   "codemirror_mode": {
    "name": "ipython",
    "version": 3
   },
   "file_extension": ".py",
   "mimetype": "text/x-python",
   "name": "python",
   "nbconvert_exporter": "python",
   "pygments_lexer": "ipython3",
   "version": "3.5.2"
  }
 },
 "nbformat": 4,
 "nbformat_minor": 2
}
