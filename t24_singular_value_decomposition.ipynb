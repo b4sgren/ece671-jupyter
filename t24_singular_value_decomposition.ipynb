{
 "cells": [
  {
   "cell_type": "markdown",
   "metadata": {},
   "source": [
    "[Table of Contents](table_of_contents.ipynb)"
   ]
  },
  {
   "cell_type": "markdown",
   "metadata": {},
   "source": [
    "# Topic 24.  Singular Value Decomposition\n",
    "Author: Brendon Forsgren (bforsgren29@gmail.com)\n",
    "    "
   ]
  },
  {
   "cell_type": "markdown",
   "metadata": {},
   "source": [
    "##  Introduction\n",
    "Singualar Value Decomposition (SVD) is a matrix decomposition for any\n",
    "complex matrix that results in 2 unitary matrix and a diagonal matrix of\n",
    "singular values. SVD is a generalization of Eigenvalue Decomposition\n",
    "and is valid for any complex matrix, not just square matrices.\n",
    "\n",

    "SVD is one of the most important techniques of Linear Algebra \n",
    "(to the point that it could be called a power tool!) and for good reason.\n",
    "The SVD provides a robust solution to Least Squares and Min-Norm problems.\n",
    "Additionally it allows for a robust solution for ill conditioned problems\n",
    "(problems where the condition number of the A matrix is very high). Lastly\n",
    ", while many matrix decompositions make certain requirements about the matrix\n",
    "being decomposed (LU: square and full rank, Cholesky: square, full rank, and\n",
    "symetric positive definite, Eigenvalue Decomposition: Hermitian) SVD has no\n",
    "such requirements."
   ]
  },
  {
   "cell_type": "markdown",
   "metadata": {},
   "source": [
    "## Explanation of the theory\n",
    "\n",
    "Give a detailed discussion (i.e., equations galore) of the topic.  \n",
    "The emphasis here is clarity for future students learning the topic.\n"
   ]
  },
  {
   "cell_type": "markdown",
   "metadata": {},
   "source": [
    "## Simple Numerical Examples\n",
    "\n",
    "Provide some simple python code and examples that emphasize the basic concepts.\n"
   ]
  },
  {
   "cell_type": "markdown",
   "metadata": {},
   "source": [
    "## An Engineering Application\n",
    "\n",
    "Provide a more sophisticated example showing one engineering example of the topic, complete with python code."
   ]
  },
  {
   "cell_type": "code",
   "execution_count": null,
   "metadata": {},
   "outputs": [],
   "source": []
  }
 ],
 "metadata": {
  "kernelspec": {
   "display_name": "Python 3",
   "language": "python",
   "name": "python3"
  },
  "language_info": {
   "codemirror_mode": {
    "name": "ipython",
    "version": 2
   },
   "file_extension": ".py",
   "mimetype": "text/x-python",
   "name": "python",
   "nbconvert_exporter": "python",
   "pygments_lexer": "ipython2",
   "version": "2.7.15"
  }
 },
 "nbformat": 4,
 "nbformat_minor": 2
}
